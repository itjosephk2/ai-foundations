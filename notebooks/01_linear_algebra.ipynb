{
 "cells": [
  {
   "cell_type": "code",
   "execution_count": 1,
   "id": "c2552725-b889-425b-aeca-0c7946e1ec96",
   "metadata": {},
   "outputs": [
    {
     "name": "stdout",
     "output_type": "stream",
     "text": [
      "v + w = [5 7 9]\n",
      "v ⋅ w = 32\n",
      "M · v = [7 3 7]\n"
     ]
    }
   ],
   "source": [
    "import numpy as np\n",
    "\n",
    "# 1. Define two vectors\n",
    "v = np.array([1, 2, 3])\n",
    "w = np.array([4, 5, 6])\n",
    "\n",
    "# 2. Compute sum and dot product\n",
    "s = v + w\n",
    "dot = np.dot(v, w)\n",
    "\n",
    "# 3. Define a 3×3 matrix and multiply\n",
    "M = np.array([[1, 0, 2],\n",
    "              [0, 3, -1],\n",
    "              [4, 0, 1]])\n",
    "Mv = M.dot(v)\n",
    "\n",
    "print(\"v + w =\", s)\n",
    "print(\"v ⋅ w =\", dot)\n",
    "print(\"M · v =\", Mv)\n"
   ]
  },
  {
   "cell_type": "code",
   "execution_count": null,
   "id": "7f88714f-1a95-42de-9b5d-d3d172f0bc0e",
   "metadata": {},
   "outputs": [],
   "source": []
  }
 ],
 "metadata": {
  "kernelspec": {
   "display_name": "Python 3 (ipykernel)",
   "language": "python",
   "name": "python3"
  },
  "language_info": {
   "codemirror_mode": {
    "name": "ipython",
    "version": 3
   },
   "file_extension": ".py",
   "mimetype": "text/x-python",
   "name": "python",
   "nbconvert_exporter": "python",
   "pygments_lexer": "ipython3",
   "version": "3.13.2"
  }
 },
 "nbformat": 4,
 "nbformat_minor": 5
}
