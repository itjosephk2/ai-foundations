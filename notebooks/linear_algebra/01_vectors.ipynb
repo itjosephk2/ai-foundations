{
 "cells": [
  {
   "cell_type": "markdown",
   "id": "c7c94e46",
   "metadata": {},
   "source": [
    "# 📐 Module 1: Linear Algebra (Vectors)\n",
    "\n",
    "This notebook covers the basics of linear algebra using NumPy:\n",
    "- Scalars, vectors, and matrices\n",
    "- Vector operations (addition, subtraction, scaling)\n",
    "- Magnitude and direction\n",
    "- Dot product\n"
   ]
  },
  {
   "cell_type": "markdown",
   "id": "55e96c2a",
   "metadata": {},
   "source": [
    "## 1. Scalars & Vectors\n",
    "\n",
    "- A **scalar** is a single number.  \n",
    "- A **vector** is an ordered list of numbers (2D array).  \n",
    "- In NumPy, vectors are represented with `np.array`.\n"
   ]
  },
  {
   "cell_type": "code",
   "execution_count": 1,
   "id": "7f88714f-1a95-42de-9b5d-d3d172f0bc0e",
   "metadata": {},
   "outputs": [
    {
     "name": "stdout",
     "output_type": "stream",
     "text": [
      "Scalar: 5\n",
      "Vector: [2 4]\n"
     ]
    }
   ],
   "source": [
    "import numpy as np\n",
    "\n",
    "a = 5  # scalar\n",
    "v = np.array([2, 4])  # vector\n",
    "print(\"Scalar:\", a)\n",
    "print(\"Vector:\", v)\n"
   ]
  },
  {
   "cell_type": "markdown",
   "id": "a7114b6a",
   "metadata": {},
   "source": [
    "## 2. Vector Addition & Subtraction\n",
    "\n",
    "- Two vectors of the same size can be added or subtracted **element-wise**.  \n",
    "- This is the foundation of combining directions or movements.\n"
   ]
  },
  {
   "cell_type": "code",
   "execution_count": 2,
   "id": "04f8e1a5",
   "metadata": {},
   "outputs": [
    {
     "name": "stdout",
     "output_type": "stream",
     "text": [
      "v1 + v2 = [3 7]\n",
      "v1 - v2 = [1 1]\n"
     ]
    }
   ],
   "source": [
    "v1 = np.array([2, 4])\n",
    "v2 = np.array([1, 3])\n",
    "\n",
    "print(\"v1 + v2 =\", v1 + v2)\n",
    "print(\"v1 - v2 =\", v1 - v2)\n"
   ]
  },
  {
   "cell_type": "markdown",
   "id": "7ddb6583",
   "metadata": {},
   "source": [
    "## 3. Magnitude of a Vector\n",
    "\n",
    "- The **magnitude** (or length) of a vector `v = (x, y)` is given by the Pythagorean theorem:  \n",
    "  \\[\n",
    "  \\|v\\| = \\sqrt{x^2 + y^2}\n",
    "  \\]\n",
    "- In NumPy, we can compute this using `np.linalg.norm`.\n"
   ]
  },
  {
   "cell_type": "code",
   "execution_count": 3,
   "id": "12ce637b",
   "metadata": {},
   "outputs": [
    {
     "name": "stdout",
     "output_type": "stream",
     "text": [
      "Vector: [3 4]\n",
      "Magnitude (length): 5.0\n"
     ]
    }
   ],
   "source": [
    "v = np.array([3, 4])\n",
    "magnitude = np.linalg.norm(v)\n",
    "print(\"Vector:\", v)\n",
    "print(\"Magnitude (length):\", magnitude)\n"
   ]
  },
  {
   "cell_type": "markdown",
   "id": "bbe81719",
   "metadata": {},
   "source": [
    "## 3. Magnitude of a Vector\n",
    "\n",
    "- The **magnitude** (or length) of a vector measures how long it is.  \n",
    "- For a 2-D vector `v = (x, y)`, the formula comes from the **Pythagorean theorem**:  \n",
    "  \\[\n",
    "  \\|v\\| = \\sqrt{x^2 + y^2}\n",
    "  \\]\n",
    "- More generally, for any vector `v = (x₁, x₂, …, xₙ)`, this is called the **Euclidean norm (L2 norm)**:  \n",
    "  \\[\n",
    "  \\|v\\| = \\sqrt{x_1^2 + x_2^2 + \\dots + x_n^2}\n",
    "  \\]\n",
    "- In NumPy, this is computed with `np.linalg.norm(v)`.\n"
   ]
  },
  {
   "cell_type": "code",
   "execution_count": 5,
   "id": "bcfbfb5d",
   "metadata": {},
   "outputs": [
    {
     "name": "stdout",
     "output_type": "stream",
     "text": [
      "Vector (17D): [4 6 6 1 9 7 4 2 1 1 6 2 5 9 1 5 9]\n",
      "Magnitude (Euclidean norm): 22.22611077089287\n"
     ]
    }
   ],
   "source": [
    "# random 17-dimensional vector\n",
    "v17 = np.random.randint(1, 10, size=17)\n",
    "print(\"Vector (17D):\", v17)\n",
    "\n",
    "magnitude_17 = np.linalg.norm(v17)\n",
    "print(\"Magnitude (Euclidean norm):\", magnitude_17)\n"
   ]
  },
  {
   "cell_type": "markdown",
   "id": "19f02509",
   "metadata": {},
   "source": [
    "## 4. Unit Vector (Normalization)\n",
    "\n",
    "- A **unit vector** is a vector with magnitude = 1.  \n",
    "- It represents **direction only**, with length scaled away.  \n",
    "- Formula:  \n",
    "  \\[\n",
    "  \\hat{v} = \\frac{v}{\\|v\\|}\n",
    "  \\]\n",
    "- In NumPy, we can normalize a vector by dividing it by its magnitude.\n"
   ]
  },
  {
   "cell_type": "code",
   "execution_count": 6,
   "id": "3c7962c7",
   "metadata": {},
   "outputs": [
    {
     "name": "stdout",
     "output_type": "stream",
     "text": [
      "Original vector: [3 4]\n",
      "Magnitude: 5.0\n",
      "Unit vector: [0.6 0.8]\n",
      "Magnitude of unit vector: 1.0\n"
     ]
    }
   ],
   "source": [
    "v = np.array([3, 4])\n",
    "magnitude = np.linalg.norm(v)\n",
    "\n",
    "unit_v = v / magnitude\n",
    "\n",
    "print(\"Original vector:\", v)\n",
    "print(\"Magnitude:\", magnitude)\n",
    "print(\"Unit vector:\", unit_v)\n",
    "print(\"Magnitude of unit vector:\", np.linalg.norm(unit_v))\n"
   ]
  },
  {
   "cell_type": "markdown",
   "id": "0876a186",
   "metadata": {},
   "source": [
    "## 5. Dot Product\n",
    "\n",
    "- The **dot product** of two vectors `u` and `v` is:  \n",
    "  \\[\n",
    "  u \\cdot v = x_1 y_1 + x_2 y_2 + \\dots + x_n y_n\n",
    "  \\]\n",
    "\n",
    "- Properties:  \n",
    "  - Produces a **scalar** (not a vector).  \n",
    "  - Relates to both the **algebraic definition** (sum of products) and the **geometric definition**:  \n",
    "    \\[\n",
    "    u \\cdot v = \\|u\\|\\|v\\|\\cos \\theta\n",
    "    \\]\n"
   ]
  },
  {
   "cell_type": "code",
   "execution_count": 7,
   "id": "76d5e252",
   "metadata": {},
   "outputs": [
    {
     "name": "stdout",
     "output_type": "stream",
     "text": [
      "u: [1 2]\n",
      "v: [2 3]\n",
      "Dot product: 8\n"
     ]
    }
   ],
   "source": [
    "u = np.array([1, 2])\n",
    "v = np.array([2, 3])\n",
    "\n",
    "dot = np.dot(u, v)\n",
    "\n",
    "print(\"u:\", u)\n",
    "print(\"v:\", v)\n",
    "print(\"Dot product:\", dot)\n"
   ]
  },
  {
   "cell_type": "markdown",
   "id": "d7b6cacf",
   "metadata": {},
   "source": [
    "## 5. Cosine of the Angle Between Vectors\n",
    "\n",
    "- The **dot product** of two vectors `u` and `v` is:  \n",
    "  \\[\n",
    "  u \\cdot v = x_1 y_1 + x_2 y_2 + \\dots + x_n y_n\n",
    "  \\]\n",
    "\n",
    "- The **cosine of the angle θ** between them is:  \n",
    "  \\[\n",
    "  \\cos \\theta = \\frac{u \\cdot v}{\\|u\\|\\|v\\|}\n",
    "  \\]\n",
    "\n",
    "- This tells us **how similar two directions are**:\n",
    "  - `cos θ = 1` → same direction  \n",
    "  - `cos θ = 0` → perpendicular  \n",
    "  - `cos θ = -1` → opposite directions\n"
   ]
  },
  {
   "cell_type": "code",
   "execution_count": 8,
   "id": "6476afb9",
   "metadata": {},
   "outputs": [
    {
     "name": "stdout",
     "output_type": "stream",
     "text": [
      "u: [1 2]\n",
      "v: [2 3]\n",
      "Dot product: 8\n",
      "Cosine similarity: 0.9922778767136677\n"
     ]
    }
   ],
   "source": [
    "u = np.array([1, 2])\n",
    "v = np.array([2, 3])\n",
    "\n",
    "dot = np.dot(u, v)\n",
    "magnitude_u = np.linalg.norm(u)\n",
    "magnitude_v = np.linalg.norm(v)\n",
    "\n",
    "cos_theta = dot / (magnitude_u * magnitude_v)\n",
    "\n",
    "print(\"u:\", u)\n",
    "print(\"v:\", v)\n",
    "print(\"Dot product:\", dot)\n",
    "print(\"Cosine similarity:\", cos_theta)\n"
   ]
  }
 ],
 "metadata": {
  "kernelspec": {
   "display_name": ".venv",
   "language": "python",
   "name": "python3"
  },
  "language_info": {
   "codemirror_mode": {
    "name": "ipython",
    "version": 3
   },
   "file_extension": ".py",
   "mimetype": "text/x-python",
   "name": "python",
   "nbconvert_exporter": "python",
   "pygments_lexer": "ipython3",
   "version": "3.13.5"
  }
 },
 "nbformat": 4,
 "nbformat_minor": 5
}
