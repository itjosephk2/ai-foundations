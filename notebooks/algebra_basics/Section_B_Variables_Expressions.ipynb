{
 "cells": [
  {
   "cell_type": "markdown",
   "id": "66ff7c0c",
   "metadata": {},
   "source": [
    "# Section B — Solving Simple Equations\n",
    "\n",
    "In this section, I practiced solving for \\(x\\).  \n",
    "The key idea is to **balance both sides of the equation** rather than “move terms across.”  \n",
    "Whatever operation you do to one side, you must also do to the other.\n",
    "\n",
    "Examples of skills in this section:\n",
    "- One-step equations (e.g., \\(x + 5 = 12\\))\n",
    "- Two-step equations (e.g., \\(2x + 5 = 7\\))\n",
    "- Equations with subtraction (e.g., \\(x - 4 = 10\\))\n",
    "- Equations with division (e.g., \\(x/3 = 6\\))\n",
    "- Checking solutions by substitution\n"
   ]
  },
  {
   "cell_type": "markdown",
   "id": "a326a846",
   "metadata": {},
   "source": [
    "### Example 1 — Solve 2x + 5 = 7\n",
    "\n",
    "1. Subtract 5 from both sides: 2x = 7 − 5  \n",
    "2. Divide both sides by 2: x = 2 / 2  \n",
    "3. x = 1\n",
    "4. Check: 2(1) + 5 = 7 ✔"
   ]
  },
  {
   "cell_type": "code",
   "execution_count": 50,
   "id": "c8557791",
   "metadata": {},
   "outputs": [
    {
     "name": "stdout",
     "output_type": "stream",
     "text": [
      "Solve: 2x + 5 = 7\n",
      "\n",
      "Step 1: 2x = 7 - 5\n",
      "Step 2: 2x = 2\n",
      "Step 3: x = 2 / 2\n",
      "Final: x = 1\n",
      "\n",
      "Substitute: 2*1 + 5 = 7\n",
      "Verified: True\n"
     ]
    }
   ],
   "source": [
    "from fractions import Fraction\n",
    "\n",
    "def _fmt(fr: Fraction) -> str:\n",
    "    \"\"\"Format Fraction as '3' or '3/4'.\"\"\"\n",
    "    return str(fr.numerator) if fr.denominator == 1 else f\"{fr.numerator}/{fr.denominator}\"\n",
    "\n",
    "# Q1: 2x + 5 = 7\n",
    "a, b, c = 2, 5, 7  # a*x + b = c\n",
    "\n",
    "# --- Header: equation ---\n",
    "print(\"Solve: 2x + 5 = 7\\n\")\n",
    "\n",
    "# --- Working: show steps (one '=' per line) ---\n",
    "print(f\"Step 1: {a}x = {c} - {b}\")        # show operation\n",
    "rhs_after_sub = c - b\n",
    "print(f\"Step 2: {a}x = {rhs_after_sub}\")  # computed RHS\n",
    "print(f\"Step 3: x = {rhs_after_sub} / {a}\")  # division step\n",
    "x = Fraction(rhs_after_sub, a)\n",
    "print(f\"Final: x = {_fmt(x)}\\n\")         # final result, then blank line\n",
    "\n",
    "# --- Check: substitution and verification on same line ---\n",
    "check = a * x + b\n",
    "verified = (check == Fraction(c, 1))\n",
    "print(f\"Substitute: {a}*{_fmt(x)} + {b} = {_fmt(check)}\")\n",
    "print(f\"Verified: {verified}\")\n"
   ]
  },
  {
   "cell_type": "markdown",
   "id": "4bbac60a",
   "metadata": {},
   "source": [
    "### Example 2 — Solve x/3 = 6\n",
    "\n",
    "1. Multiply both sides by 3: x = 6 × 3\n",
    "2. x = 18\n",
    "3. Check: 18 / 3 = 6 ✔"
   ]
  },
  {
   "cell_type": "code",
   "execution_count": 48,
   "id": "25ac0da1",
   "metadata": {},
   "outputs": [
    {
     "name": "stdout",
     "output_type": "stream",
     "text": [
      "Solve: x/3 = 6\n",
      "\n",
      "Step 1: x = 6 * 3\n",
      "Final: x = 18\n",
      "\n",
      "Substitute: 18 / 3 = 6\n",
      "Verified: True\n"
     ]
    }
   ],
   "source": [
    "from fractions import Fraction\n",
    "\n",
    "def _fmt(fr: Fraction) -> str:\n",
    "    \"\"\"Format Fraction as '3' or '3/4'.\"\"\"\n",
    "    return str(fr.numerator) if fr.denominator == 1 else f\"{fr.numerator}/{fr.denominator}\"\n",
    "\n",
    "# Q2: x/3 = 6\n",
    "multiplier = 3\n",
    "rhs = 6\n",
    "\n",
    "print(\"Solve: x/3 = 6\\n\")\n",
    "\n",
    "# Step 1: show the operation to perform (only one '=' on this line)\n",
    "print(f\"Step 1: x = {rhs} * {multiplier}\")\n",
    "\n",
    "# Final: show x on its own line (only one '=')\n",
    "x = Fraction(rhs_after_mul, 1)\n",
    "print(f\"Final: x = {_fmt(x)}\\n\")\n",
    "\n",
    "# Check: substitute back (one '=' per line)\n",
    "check = x / multiplier\n",
    "print(f\"Substitute: {_fmt(x)} / {multiplier} = {_fmt(check)}\")\n",
    "print(f\"Verified: {verified}\")\n"
   ]
  },
  {
   "cell_type": "markdown",
   "id": "a6f6e79c",
   "metadata": {},
   "source": [
    "### Example 3 — Solve 5x - 4 = 21\n",
    "\n",
    "1. Add 4 to both sides: 5x = 21 + 4 = 25  \n",
    "2. Divide by 5: x = 25 / 5 \n",
    "3. x = 5\n",
    "4. Check: 5(5) - 4 = 21 ✔\n"
   ]
  },
  {
   "cell_type": "code",
   "execution_count": 45,
   "id": "61ab09cd",
   "metadata": {},
   "outputs": [
    {
     "name": "stdout",
     "output_type": "stream",
     "text": [
      "Solve: 5x - 4 = 21\n",
      "\n",
      "Step 1: 5x = 21 - (-4)\n",
      "Step 2: 5x = 25\n",
      "Step 3: x = 25 / 5\n",
      "Final: x = 5\n",
      "\n",
      "Substitute: 5*5 + (-4) = 21\n",
      "Verified: True\n"
     ]
    }
   ],
   "source": [
    "from fractions import Fraction\n",
    "\n",
    "def _fmt(fr: Fraction) -> str:\n",
    "    \"\"\"Format Fraction as '3' or '3/4'.\"\"\"\n",
    "    return str(fr.numerator) if fr.denominator == 1 else f\"{fr.numerator}/{fr.denominator}\"\n",
    "\n",
    "# Equation: 5x - 4 = 21\n",
    "a, b, c = 5, -4, 21  # b is -4\n",
    "\n",
    "# --- Header: equation ---\n",
    "print(\"Solve: 5x - 4 = 21\\n\")   # equation, then a blank line\n",
    "\n",
    "# --- Working: show steps (one '=' per line) ---\n",
    "print(f\"Step 1: {a}x = {c} - ({b})\")    # show operation\n",
    "rhs_after_add = c - b\n",
    "print(f\"Step 2: {a}x = {rhs_after_add}\") # computed RHS\n",
    "print(f\"Step 3: x = {rhs_after_add} / {a}\")  # division step\n",
    "x = Fraction(rhs_after_add, a)\n",
    "print(f\"Final: x = {_fmt(x)}\\n\")        # final result, then a blank line\n",
    "\n",
    "# --- Check: substitution and verification ---\n",
    "check = a * x + b\n",
    "print(f\"Substitute: {a}*{_fmt(x)} + ({b}) = {_fmt(check)}\")  # substitution, then blank line\n",
    "\n",
    "verified = (check == Fraction(c, 1))\n",
    "print(f\"Verified: {verified}\") "
   ]
  },
  {
   "cell_type": "markdown",
   "id": "799b97d6",
   "metadata": {},
   "source": [
    "### Example 4 — Solve 3(x - 2) = 9\n",
    "\n",
    "Method A (divide first):\n",
    "1. Divide both sides by 3: x - 2 = 3  \n",
    "2. Add 2: x = 5\n",
    "\n",
    "Method B (expand then solve):\n",
    "1. Expand: 3x - 6 = 9  \n",
    "2. Add 6: 3x = 15  \n",
    "3. Divide by 3: x = 5\n",
    "\n",
    "Check: 3(5 - 2) = 9 ✔\n"
   ]
  },
  {
   "cell_type": "code",
   "execution_count": 43,
   "id": "8242b04e",
   "metadata": {},
   "outputs": [
    {
     "name": "stdout",
     "output_type": "stream",
     "text": [
      "Solve: 3(x - 2) = 9\n",
      "\n",
      "Step 1: x - 2 = 9 / 3\n",
      "Step 2: x - 2 = 3\n",
      "Step 3: x = 3 + 2\n",
      "Final: x = 5\n",
      "\n",
      "Substitute: 3*(5 - 2) = 9\n",
      "Verified: True\n"
     ]
    }
   ],
   "source": [
    "from fractions import Fraction\n",
    "\n",
    "def _fmt(fr: Fraction) -> str:\n",
    "    \"\"\"Format Fraction as '3' or '3/4'.\"\"\"\n",
    "    return str(fr.numerator) if fr.denominator == 1 else f\"{fr.numerator}/{fr.denominator}\"\n",
    "\n",
    "# Q4: 3(x - 2) = 9\n",
    "\n",
    "# --- Header: equation ---\n",
    "print(\"Solve: 3(x - 2) = 9\\n\")\n",
    "\n",
    "# --- Working: show steps ---\n",
    "print(\"Step 1: x - 2 = 9 / 3\")     # divide both sides by 3\n",
    "rhs_after_div = Fraction(9, 3)\n",
    "print(f\"Step 2: x - 2 = {_fmt(rhs_after_div)}\")\n",
    "\n",
    "print(\"Step 3: x = 3 + 2\")        # add 2 to both sides\n",
    "x = rhs_after_div + 2\n",
    "print(f\"Final: x = {_fmt(x)}\\n\")   # final answer, then blank line\n",
    "\n",
    "# --- Check: substitution and verification on same line ---\n",
    "check = 3 * (x - 2)\n",
    "verified = (check == 9)\n",
    "print(f\"Substitute: 3*({_fmt(x)} - 2) = {_fmt(check)}\")\n",
    "print(f\"Verified: {verified}\")\n",
    "\n"
   ]
  },
  {
   "cell_type": "markdown",
   "id": "92815544",
   "metadata": {},
   "source": [
    "### Example 5 — Solve x/4 + 2 = 7\n",
    "\n",
    "1. Subtract 2 from both sides: x/4 = 5  \n",
    "2. Multiply both sides by 4: x = 5 × 4 = 20  \n",
    "3. Check: 20/4 + 2 = 7 ✔\n"
   ]
  },
  {
   "cell_type": "code",
   "execution_count": 44,
   "id": "49245d3c",
   "metadata": {},
   "outputs": [
    {
     "name": "stdout",
     "output_type": "stream",
     "text": [
      "Solve: x/4 + 2 = 7\n",
      "\n",
      "Step 1: x/4 = 7 - 2\n",
      "Step 2: x/4 = 5\n",
      "Step 3: x = 5 * 4\n",
      "Final: x = 20\n",
      "\n",
      "Substitute: 20/4 + 2 = 7\n",
      "Verified: True\n"
     ]
    }
   ],
   "source": [
    "from fractions import Fraction\n",
    "\n",
    "def _fmt(fr: Fraction) -> str:\n",
    "    \"\"\"Format Fraction as '3' or '3/4'.\"\"\"\n",
    "    return str(fr.numerator) if fr.denominator == 1 else f\"{fr.numerator}/{fr.denominator}\"\n",
    "\n",
    "# Q5: x/4 + 2 = 7\n",
    "\n",
    "# --- Header: equation ---\n",
    "print(\"Solve: x/4 + 2 = 7\\n\")\n",
    "\n",
    "# --- Working: show steps ---\n",
    "print(\"Step 1: x/4 = 7 - 2\")       # subtract 2 from both sides\n",
    "rhs_after_sub = 7 - 2\n",
    "print(f\"Step 2: x/4 = {rhs_after_sub}\")\n",
    "\n",
    "print(f\"Step 3: x = {rhs_after_sub} * 4\")   # multiply both sides by 4\n",
    "x = Fraction(rhs_after_sub * 4, 1)\n",
    "print(f\"Final: x = {_fmt(x)}\\n\")   # final result, then blank line\n",
    "\n",
    "# --- Check: substitution and verification ---\n",
    "check = x/4 + 2\n",
    "verified = (check == 7)\n",
    "print(f\"Substitute: {_fmt(x)}/4 + 2 = {_fmt(check)}\")\n",
    "print(f\"Verified: {verified}\")\n",
    "\n"
   ]
  }
 ],
 "metadata": {
  "kernelspec": {
   "display_name": ".venv",
   "language": "python",
   "name": "python3"
  },
  "language_info": {
   "codemirror_mode": {
    "name": "ipython",
    "version": 3
   },
   "file_extension": ".py",
   "mimetype": "text/x-python",
   "name": "python",
   "nbconvert_exporter": "python",
   "pygments_lexer": "ipython3",
   "version": "3.13.2"
  }
 },
 "nbformat": 4,
 "nbformat_minor": 5
}
