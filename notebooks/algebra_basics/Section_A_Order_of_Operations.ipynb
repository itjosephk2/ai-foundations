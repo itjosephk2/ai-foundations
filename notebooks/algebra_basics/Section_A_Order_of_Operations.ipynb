{
 "cells": [
  {
   "cell_type": "markdown",
   "id": "417ef01f",
   "metadata": {},
   "source": [
    "# Understanding PEMDAS\n",
    "\n",
    "When solving math expressions, the order of operations is very important.  \n",
    "We use the acronym **PEMDAS** to remember the correct order:\n",
    "\n",
    "1. **P** – Parentheses ( ) → Do inside brackets first  \n",
    "2. **E** – Exponents → Powers and square roots  \n",
    "3. **M** – Multiplication  \n",
    "4. **D** – Division  \n",
    "5. **A** – Addition  \n",
    "6. **S** – Subtraction  \n",
    "\n",
    "👉 Multiplication and Division are done **from left to right**, whichever comes first.  \n",
    "👉 Addition and Subtraction are also done **from left to right**.\n",
    "\n",
    "**Example:**  \n",
    "\\[\n",
    "6 + 2 \\times 5\n",
    "\\]  \n",
    "- First do the multiplication: \\(2 \\times 5 = 10\\)  \n",
    "- Then add: \\(6 + 10 = 16\\)\n",
    "\n",
    "Without the order of operations, different people might get different answers — but PEMDAS ensures everyone gets the same result.\n"
   ]
  },
  {
   "cell_type": "markdown",
   "id": "5092863c",
   "metadata": {},
   "source": [
    "### Q1. Evaluate: 6 + 2 × 5\n"
   ]
  },
  {
   "cell_type": "code",
   "execution_count": 32,
   "id": "f7203f0d",
   "metadata": {},
   "outputs": [
    {
     "name": "stdout",
     "output_type": "stream",
     "text": [
      "Q1. Evaluate 6 + 2 × 5\n",
      "Step 1 (Multiplication): 2 × 5 = 10\n",
      "Step 2 (Addition): 6 + 10 = 16\n"
     ]
    }
   ],
   "source": [
    "expr1 = 6 + 2 * 5\n",
    "\n",
    "print(\"Q1. Evaluate 6 + 2 × 5\")\n",
    "\n",
    "# Step 1: Multiplication first (PEMDAS)\n",
    "step1 = 2 * 5\n",
    "print(f\"Step 1 (Multiplication): 2 × 5 = {step1}\")\n",
    "\n",
    "# Step 2: Addition\n",
    "step2 = 6 + step1\n",
    "print(f\"Step 2 (Addition): 6 + {step1} = {step2}\")\n"
   ]
  },
  {
   "cell_type": "markdown",
   "id": "adf53937",
   "metadata": {},
   "source": [
    "### Q2. Evaluate: (12 - 4)² ÷ 8\n"
   ]
  },
  {
   "cell_type": "code",
   "execution_count": 33,
   "id": "3b453216",
   "metadata": {},
   "outputs": [
    {
     "name": "stdout",
     "output_type": "stream",
     "text": [
      "Q2. Evaluate (12 - 4)^2 ÷ 8\n",
      "Step 1 (Parentheses): 12 - 4 = 8\n",
      "Step 2 (Exponent): 8^2 = 64\n",
      "Step 3 (Division): 64 ÷ 8 = 8\n"
     ]
    }
   ],
   "source": [
    "print(\"Q2. Evaluate (12 - 4)^2 ÷ 8\")\n",
    "\n",
    "# Step 1: Parentheses\n",
    "step1 = 12 - 4\n",
    "print(f\"Step 1 (Parentheses): 12 - 4 = {step1}\")\n",
    "\n",
    "# Step 2: Exponent\n",
    "step2 = step1 ** 2\n",
    "print(f\"Step 2 (Exponent): {step1}^2 = {step2}\")\n",
    "\n",
    "# Step 3: Division (cast to int)\n",
    "step3 = step2 / 8\n",
    "print(f\"Step 3 (Division): {step2} ÷ 8 = {int(step3)}\")\n"
   ]
  },
  {
   "cell_type": "markdown",
   "id": "de054d97",
   "metadata": {},
   "source": [
    "### Q3. Evaluate: 20 - 3²\n"
   ]
  },
  {
   "cell_type": "code",
   "execution_count": 34,
   "id": "f48ebbae",
   "metadata": {},
   "outputs": [
    {
     "name": "stdout",
     "output_type": "stream",
     "text": [
      "Q3. Evaluate 20 - 3^2\n",
      "Step 1 (Exponent): 3^2 = 9\n",
      "Step 2 (Subtraction): 20 - 9 = 11\n"
     ]
    }
   ],
   "source": [
    "print(\"Q3. Evaluate 20 - 3^2\")\n",
    "\n",
    "# Step 1: Exponent\n",
    "step1 = 3 ** 2\n",
    "print(f\"Step 1 (Exponent): 3^2 = {step1}\")\n",
    "\n",
    "# Step 2: Subtraction\n",
    "step2 = 20 - step1\n",
    "print(f\"Step 2 (Subtraction): 20 - {step1} = {int(step2)}\")\n",
    "\n"
   ]
  },
  {
   "cell_type": "markdown",
   "id": "2581add9",
   "metadata": {},
   "source": [
    "### Q4. Convert 0.375 into a fraction in simplest form  \n",
    "\n",
    "**Thought Process:**  \n",
    "- 0.375 = 375/1000.  \n",
    "- Simplify step by step: divide top and bottom by 125 → 3/8.  \n",
    "- Use Python’s `fractions` module to confirm.  \n"
   ]
  },
  {
   "cell_type": "code",
   "execution_count": 36,
   "id": "5a4c62e6",
   "metadata": {},
   "outputs": [
    {
     "data": {
      "text/plain": [
       "Fraction(3, 8)"
      ]
     },
     "execution_count": 36,
     "metadata": {},
     "output_type": "execute_result"
    }
   ],
   "source": [
    "from fractions import Fraction\n",
    "Fraction(0.375).limit_denominator()"
   ]
  },
  {
   "cell_type": "markdown",
   "id": "e947e9ca",
   "metadata": {},
   "source": [
    "### Q5. Compare: 5/8 vs 7/12  \n",
    "Which fraction is larger?\n"
   ]
  },
  {
   "cell_type": "code",
   "execution_count": 38,
   "id": "1302a99b",
   "metadata": {},
   "outputs": [
    {
     "name": "stdout",
     "output_type": "stream",
     "text": [
      "Q4. Compare: 5/8 vs 7/12\n",
      "Fraction 1: 5/8\n",
      "Fraction 2: 7/12\n",
      "5/8 is larger than 7/12\n"
     ]
    }
   ],
   "source": [
    "from fractions import Fraction\n",
    "\n",
    "print(\"Q4. Compare: 5/8 vs 7/12\")\n",
    "\n",
    "frac1 = Fraction(5, 8)\n",
    "frac2 = Fraction(7, 12)\n",
    "\n",
    "print(f\"Fraction 1: {frac1}\")\n",
    "print(f\"Fraction 2: {frac2}\")\n",
    "\n",
    "if frac1 > frac2:\n",
    "    print(f\"{frac1} is larger than {frac2}\")\n",
    "elif frac1 < frac2:\n",
    "    print(f\"{frac2} is larger than {frac1}\")\n",
    "else:\n",
    "    print(\"Both fractions are equal\")\n",
    "\n"
   ]
  }
 ],
 "metadata": {
  "kernelspec": {
   "display_name": ".venv",
   "language": "python",
   "name": "python3"
  },
  "language_info": {
   "codemirror_mode": {
    "name": "ipython",
    "version": 3
   },
   "file_extension": ".py",
   "mimetype": "text/x-python",
   "name": "python",
   "nbconvert_exporter": "python",
   "pygments_lexer": "ipython3",
   "version": "3.13.2"
  }
 },
 "nbformat": 4,
 "nbformat_minor": 5
}
