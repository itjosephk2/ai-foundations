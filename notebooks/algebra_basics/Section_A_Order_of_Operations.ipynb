{
 "cells": [
  {
   "cell_type": "markdown",
   "id": "417ef01f",
   "metadata": {},
   "source": [
    "# Algebra Foundations — Section A  \n",
    "## Order of Operations & Numbers  \n",
    "\n",
    "This section tests arithmetic, order of operations (PEMDAS/BODMAS), fractions, and decimals.  \n",
    "For each question:  \n",
    "1. Solve manually (write steps in your copybook).  \n",
    "2. Run the Python cell to check your work.  "
   ]
  },
  {
   "cell_type": "markdown",
   "id": "5092863c",
   "metadata": {},
   "source": [
    "### Q1. Evaluate: 6 + 2 × 5\n"
   ]
  },
  {
   "cell_type": "code",
   "execution_count": 1,
   "id": "f7203f0d",
   "metadata": {},
   "outputs": [
    {
     "name": "stdout",
     "output_type": "stream",
     "text": [
      "16\n"
     ]
    }
   ],
   "source": [
    "expr1 = 6 + 2 * 5\n",
    "print(expr1)"
   ]
  },
  {
   "cell_type": "markdown",
   "id": "adf53937",
   "metadata": {},
   "source": [
    "### Q2. Evaluate: (12 - 4)² ÷ 8\n"
   ]
  },
  {
   "cell_type": "code",
   "execution_count": 2,
   "id": "3b453216",
   "metadata": {},
   "outputs": [
    {
     "name": "stdout",
     "output_type": "stream",
     "text": [
      "8.0\n"
     ]
    }
   ],
   "source": [
    "expr2 = (12 - 4)**2 / 8\n",
    "print(expr2)\n"
   ]
  },
  {
   "cell_type": "markdown",
   "id": "de054d97",
   "metadata": {},
   "source": [
    "### Q3. Evaluate: 20 - 3²\n"
   ]
  },
  {
   "cell_type": "code",
   "execution_count": 4,
   "id": "f48ebbae",
   "metadata": {},
   "outputs": [
    {
     "name": "stdout",
     "output_type": "stream",
     "text": [
      "11\n"
     ]
    }
   ],
   "source": [
    "expr3 = 20 - 3**2\n",
    "print(expr3)\n"
   ]
  },
  {
   "cell_type": "markdown",
   "id": "e947e9ca",
   "metadata": {},
   "source": [
    "### Q4. Compare: 5/8 vs 7/12  \n",
    "Which fraction is larger?\n"
   ]
  },
  {
   "cell_type": "code",
   "execution_count": 8,
   "id": "0bbd93b1",
   "metadata": {},
   "outputs": [
    {
     "name": "stdout",
     "output_type": "stream",
     "text": [
      "5/8 is larger than 7/12\n"
     ]
    }
   ],
   "source": [
    "frac1 = 5/8\n",
    "frac2 = 7/12\n",
    "if frac1 > frac2:\n",
    "    print('5/8 is larger than 7/12')\n",
    "else:\n",
    "    print('7/12 is larger than 5/8')\n",
    "\n"
   ]
  },
  {
   "cell_type": "markdown",
   "id": "7a42a4f4",
   "metadata": {},
   "source": [
    "### Q5. Convert 0.375 into a fraction in simplest form\n"
   ]
  },
  {
   "cell_type": "code",
   "execution_count": 9,
   "id": "2ed6e402",
   "metadata": {},
   "outputs": [
    {
     "data": {
      "text/plain": [
       "Fraction(3, 8)"
      ]
     },
     "execution_count": 9,
     "metadata": {},
     "output_type": "execute_result"
    }
   ],
   "source": [
    "from fractions import Fraction\n",
    "Fraction(0.375).limit_denominator()\n"
   ]
  }
 ],
 "metadata": {
  "kernelspec": {
   "display_name": ".venv",
   "language": "python",
   "name": "python3"
  },
  "language_info": {
   "codemirror_mode": {
    "name": "ipython",
    "version": 3
   },
   "file_extension": ".py",
   "mimetype": "text/x-python",
   "name": "python",
   "nbconvert_exporter": "python",
   "pygments_lexer": "ipython3",
   "version": "3.13.5"
  }
 },
 "nbformat": 4,
 "nbformat_minor": 5
}
