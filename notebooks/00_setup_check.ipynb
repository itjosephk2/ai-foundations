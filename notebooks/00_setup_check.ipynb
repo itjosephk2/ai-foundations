{
 "cells": [
  {
   "cell_type": "markdown",
   "id": "63ffc739",
   "metadata": {},
   "source": [
    "# ✅ Module 0: Setup Check\n",
    "\n",
    "Quick test to confirm that NumPy, Pandas, Matplotlib, and Scikit-Learn are installed and working."
   ]
  },
  {
   "cell_type": "code",
   "execution_count": 1,
   "id": "47744744",
   "metadata": {},
   "outputs": [
    {
     "name": "stdout",
     "output_type": "stream",
     "text": [
      "✅ NumPy: 2.3.2\n",
      "✅ Pandas: 2.3.2\n",
      "✅ Matplotlib: 3.10.5\n",
      "✅ Scikit-Learn: 1.7.1\n"
     ]
    }
   ],
   "source": [
    "import numpy as np\n",
    "import pandas as pd\n",
    "import matplotlib.pyplot as plt\n",
    "import sklearn\n",
    "\n",
    "print(\"✅ NumPy:\", np.__version__)\n",
    "print(\"✅ Pandas:\", pd.__version__)\n",
    "print(\"✅ Matplotlib:\", plt.matplotlib.__version__)\n",
    "print(\"✅ Scikit-Learn:\", sklearn.__version__)"
   ]
  },
  {
   "cell_type": "code",
   "execution_count": 2,
   "id": "bf1b17b8",
   "metadata": {},
   "outputs": [
    {
     "name": "stdout",
     "output_type": "stream",
     "text": [
      "Numpy test array: [0 1 2 3 4]\n",
      "Pandas test dataframe:\n",
      "   x  y\n",
      "0  1  4\n",
      "1  2  5\n",
      "2  3  6\n"
     ]
    }
   ],
   "source": [
    "# simple tests\n",
    "a = np.arange(5)\n",
    "print(\"Numpy test array:\", a)\n",
    "\n",
    "df = pd.DataFrame({\"x\": [1, 2, 3], \"y\": [4, 5, 6]})\n",
    "print(\"Pandas test dataframe:\")\n",
    "print(df)"
   ]
  }
 ],
 "metadata": {
  "kernelspec": {
   "display_name": ".venv",
   "language": "python",
   "name": "python3"
  },
  "language_info": {
   "codemirror_mode": {
    "name": "ipython",
    "version": 3
   },
   "file_extension": ".py",
   "mimetype": "text/x-python",
   "name": "python",
   "nbconvert_exporter": "python",
   "pygments_lexer": "ipython3",
   "version": "3.13.5"
  }
 },
 "nbformat": 4,
 "nbformat_minor": 5
}
