{
 "cells": [
  {
   "cell_type": "markdown",
   "id": "63ffc739",
   "metadata": {},
   "source": [
    "# ✅ Module 0: Setup Check\n",
    "\n",
    "Quick test to confirm that NumPy, Pandas, Matplotlib, and Scikit-Learn are installed and working."
   ]
  },
  {
   "cell_type": "code",
   "execution_count": null,
   "id": "47744744",
   "metadata": {},
   "outputs": [],
   "source": [
    "import numpy as np\n",
    "import pandas as pd\n",
    "import matplotlib.pyplot as plt\n",
    "import sklearn\n",
    "\n",
    "print(\"✅ NumPy:\", np.__version__)\n",
    "print(\"✅ Pandas:\", pd.__version__)\n",
    "print(\"✅ Matplotlib:\", plt.matplotlib.__version__)\n",
    "print(\"✅ Scikit-Learn:\", sklearn.__version__)"
   ]
  },
  {
   "cell_type": "code",
   "execution_count": null,
   "id": "bf1b17b8",
   "metadata": {},
   "outputs": [],
   "source": [
    "# simple tests\n",
    "a = np.arange(5)\n",
    "print(\"Numpy test array:\", a)\n",
    "\n",
    "df = pd.DataFrame({\"x\": [1, 2, 3], \"y\": [4, 5, 6]})\n",
    "print(\"Pandas test dataframe:\")\n",
    "print(df)"
   ]
  }
 ],
 "metadata": {
  "kernelspec": {
   "display_name": ".venv",
   "language": "python",
   "name": "python3"
  },
  "language_info": {
   "codemirror_mode": {
    "name": "ipython",
    "version": 3
   },
   "file_extension": ".py",
   "mimetype": "text/x-python",
   "name": "python",
   "nbconvert_exporter": "python",
   "pygments_lexer": "ipython3",
   "version": "3.13.5"
  }
 },
 "nbformat": 4,
 "nbformat_minor": 5
}
